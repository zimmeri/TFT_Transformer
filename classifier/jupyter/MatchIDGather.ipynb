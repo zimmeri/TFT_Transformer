{
  "cells": [
    {
      "cell_type": "code",
      "execution_count": null,
      "metadata": {
        "id": "NDJChhPY2Lru"
      },
      "outputs": [],
      "source": [
        "API_KEY=\"\"\n",
        "START_TIMESTAMP=1737666000 #Thursday, January 23rd, 2025\n",
        "END_TIMESTAMP=1738789200 #Wednesday, February 5th, 2025"
      ]
    },
    {
      "cell_type": "code",
      "execution_count": null,
      "metadata": {
        "id": "LpuloMpH-lq2"
      },
      "outputs": [],
      "source": [
        "import os\n",
        "import time\n",
        "import json\n",
        "import requests\n",
        "from tqdm import tqdm"
      ]
    },
    {
      "cell_type": "code",
      "execution_count": null,
      "metadata": {
        "id": "qda_cCM1_-pD"
      },
      "outputs": [],
      "source": [
        "#get summoner_id of challengers in a region\n",
        "def get_challengers(region_short):\n",
        "  link = f'https://{region_short}.api.riotgames.com/tft/league/v1/challenger?queue=RANKED_TFT&api_key={API_KEY}'\n",
        "  response = requests.get(link)\n",
        "  if(response.status_code == 200):\n",
        "    challengers = response.json()['entries']\n",
        "    challengers_puuid = [x['summonerId'] for x in challengers]\n",
        "    return challengers_puuid\n",
        "  else:\n",
        "    return response.status_code"
      ]
    },
    {
      "cell_type": "code",
      "execution_count": null,
      "metadata": {
        "id": "4z6RKcdXIcN_"
      },
      "outputs": [],
      "source": [
        "#get summoner_id of grandmasters in a region\n",
        "def get_grandmaster(region_short):\n",
        "  link = f'https://{region_short}.api.riotgames.com/tft/league/v1/grandmaster?queue=RANKED_TFT&api_key={API_KEY}'\n",
        "  response = requests.get(link)\n",
        "  if(response.status_code == 200):\n",
        "    grandmasters = response.json()['entries']\n",
        "    grandmasters_puuid = [x['summonerId'] for x in grandmasters]\n",
        "    return grandmasters_puuid\n",
        "  else:\n",
        "    return response.status_code"
      ]
    },
    {
      "cell_type": "code",
      "execution_count": null,
      "metadata": {
        "collapsed": true,
        "id": "okYiNQGAOiiy"
      },
      "outputs": [],
      "source": [
        "#convert summoner_id to puid for match data pull\n",
        "def summonerId_to_puuid(summonerId, region_short):\n",
        "  link = f'https://{region_short}.api.riotgames.com/tft/league/v1/entries/by-summoner/{summonerId}?api_key={API_KEY}'\n",
        "  response = requests.get(link)\n",
        "  if(response.status_code == 200):\n",
        "    return response.json()[0]['puuid']\n",
        "  else:\n",
        "    return response.status_code"
      ]
    },
    {
      "cell_type": "code",
      "execution_count": null,
      "metadata": {
        "id": "1OQHTX5_5r8w"
      },
      "outputs": [],
      "source": [
        "#get match ids for a puid\n",
        "def get_matchId(puuid, count, region_long):\n",
        "  link = f'https://{region_long}.api.riotgames.com/tft/match/v1/matches/by-puuid/{puuid}/ids?start=0&endTime={END_TIMESTAMP}&startTime={START_TIMESTAMP}&count={count}&api_key={API_KEY}'\n",
        "  response = requests.get(link)\n",
        "  if(response.status_code == 200):\n",
        "    return response.json()\n",
        "  else:\n",
        "    return response.status_code"
      ]
    },
    {
      "cell_type": "code",
      "execution_count": null,
      "metadata": {
        "id": "6-dRiQzT9IVg"
      },
      "outputs": [],
      "source": [
        "def challenger_matches(matchIds, region_short, region_long):\n",
        "  challengers = get_challengers(region_short) #first get the summoner ids of challengers\n",
        "  if (type(challengers) != int):\n",
        "    for challenger in tqdm(challengers):\n",
        "      time.sleep(1) #pause for api limits\n",
        "      puuid = summonerId_to_puuid(challenger, region_short) #convert the summoner ids to puids\n",
        "      if (type(puuid) != int):\n",
        "        summoner_matchIds = get_matchId(puuid, 10000, region_long) #get the most recent 10,000 matches (returns less given the time range) for a puid of a challenger\n",
        "        if (type(summoner_matchIds) !=int):\n",
        "          matchIds.update(summoner_matchIds) #create a list of the match ids\n",
        "        else:\n",
        "          print(f'Error getting match ids: {summoner_matchIds} on {puuid}') \n",
        "      else:\n",
        "        print(f'Error converting summonerId to puuid: {puuid} on {challenger}')\n",
        "  else:\n",
        "    print(f'Error returning list of challengers: {challengers}')"
      ]
    },
    {
      "cell_type": "code",
      "execution_count": null,
      "metadata": {
        "id": "R1iJcjv6I_6x"
      },
      "outputs": [],
      "source": [
        "#is the same as challenger_matches but gets data for grandmasters instead\n",
        "def grandmasters_matches(matchIds, region_short, region_long):\n",
        "  grandmasters = get_grandmaster(region_short)\n",
        "  if (type(grandmasters) != int):\n",
        "    for grandmaster in tqdm(grandmasters):\n",
        "      time.sleep(1)\n",
        "      puuid = summonerId_to_puuid(grandmaster, region_short)\n",
        "      if (type(puuid) != int):\n",
        "        summoner_matchIds = get_matchId(puuid, 10000, region_long)\n",
        "        if (type(summoner_matchIds) !=int):\n",
        "          matchIds.update(summoner_matchIds)\n",
        "        else:\n",
        "          print(f'Error getting match ids: {summoner_matchIds} on {puuid}')\n",
        "      else:\n",
        "        print(f'Error converting summonerId to puuid: {puuid} on {grandmaster}')\n",
        "  else:\n",
        "    print(f'Error returning list of challengers: {grandmasters}')"
      ]
    },
    {
      "cell_type": "code",
      "execution_count": null,
      "metadata": {
        "id": "vUtPsb_PhDa3"
      },
      "outputs": [],
      "source": [
        "region_short = 'NA1'\n",
        "region_long = 'AMERICAS'\n",
        "matchIds = set()"
      ]
    },
    {
      "cell_type": "code",
      "execution_count": null,
      "metadata": {
        "colab": {
          "base_uri": "https://localhost:8080/"
        },
        "id": "VIzmjCur7U65",
        "outputId": "ac22be02-9005-4974-96cc-281c618e7584"
      },
      "outputs": [
        {
          "name": "stderr",
          "output_type": "stream",
          "text": [
            " 36%|███▌      | 90/250 [02:26<03:50,  1.44s/it]"
          ]
        },
        {
          "name": "stdout",
          "output_type": "stream",
          "text": [
            "Error converting summonerId to puuid: 500 on hR3eJUzt0gHwt-kHP9mnImMkJ5RcNSJNIFebzJf_sSeHUmk\n"
          ]
        },
        {
          "name": "stderr",
          "output_type": "stream",
          "text": [
            " 42%|████▏     | 105/250 [03:09<17:53,  7.40s/it]"
          ]
        },
        {
          "name": "stdout",
          "output_type": "stream",
          "text": [
            "Error converting summonerId to puuid: 504 on 0cHOqz_gCG6alVWcMTiDsUMdVgT1O1Ks7Cb5jsrhHw9zCpIM\n"
          ]
        },
        {
          "name": "stderr",
          "output_type": "stream",
          "text": [
            " 81%|████████  | 202/250 [05:38<01:06,  1.40s/it]"
          ]
        },
        {
          "name": "stdout",
          "output_type": "stream",
          "text": [
            "Error converting summonerId to puuid: 500 on VP4yw2LUd8owjaON0NW8zPUpl4n0mvU57Bs1_t5_hWpoT9jvudV8EbQqUA\n"
          ]
        },
        {
          "name": "stderr",
          "output_type": "stream",
          "text": [
            "100%|██████████| 250/250 [06:50<00:00,  1.64s/it]\n",
            "  5%|▍         | 23/500 [00:33<10:50,  1.36s/it]"
          ]
        },
        {
          "name": "stdout",
          "output_type": "stream",
          "text": [
            "Error converting summonerId to puuid: 500 on dCSy5oZTGbXXbDwqMR1PBrQpAjhFjKdmMx9KcwXVoV1urJOT5_b3Lble5A\n"
          ]
        },
        {
          "name": "stderr",
          "output_type": "stream",
          "text": [
            " 19%|█▊        | 93/500 [02:36<49:59,  7.37s/it]"
          ]
        },
        {
          "name": "stdout",
          "output_type": "stream",
          "text": [
            "Error converting summonerId to puuid: 504 on F1a_nVDBk10vhW35BROPfMiTdq91dWUITTSa5TMsI1jyO4I\n"
          ]
        },
        {
          "name": "stderr",
          "output_type": "stream",
          "text": [
            " 33%|███▎      | 166/500 [04:23<07:33,  1.36s/it]"
          ]
        },
        {
          "name": "stdout",
          "output_type": "stream",
          "text": [
            "Error converting summonerId to puuid: 500 on orsLGXmVSxMQNz8EB0ldwTumaU-sG6KUtbi04MzCb2Gc56E\n"
          ]
        },
        {
          "name": "stderr",
          "output_type": "stream",
          "text": [
            " 99%|█████████▉| 494/500 [12:42<00:11,  1.96s/it]"
          ]
        },
        {
          "name": "stdout",
          "output_type": "stream",
          "text": [
            "Error converting summonerId to puuid: 504 on 294GyQa_UaSoqyw_Ar3BGJ1rT_uRnjVGcBdfP-aqsqQFUps\n"
          ]
        },
        {
          "name": "stderr",
          "output_type": "stream",
          "text": [
            "100%|██████████| 500/500 [12:52<00:00,  1.54s/it]\n"
          ]
        },
        {
          "data": {
            "text/plain": [
              "18557"
            ]
          },
          "execution_count": 39,
          "metadata": {},
          "output_type": "execute_result"
        }
      ],
      "source": [
        "challenger_matches(matchIds, region_short, region_long)\n",
        "grandmasters_matches(matchIds, region_short, region_long)\n",
        "len(matchIds)"
      ]
    },
    {
      "cell_type": "code",
      "execution_count": null,
      "metadata": {
        "colab": {
          "base_uri": "https://localhost:8080/"
        },
        "id": "8sh2qckQcXO8",
        "outputId": "439f7e9a-e27c-4bee-e07a-ba24349e2df8"
      },
      "outputs": [
        {
          "name": "stderr",
          "output_type": "stream",
          "text": [
            "100%|██████████| 50/50 [01:23<00:00,  1.66s/it]\n",
            "100%|██████████| 100/100 [02:50<00:00,  1.70s/it]\n"
          ]
        }
      ],
      "source": [
        "region_short='BR1'\n",
        "challenger_matches(matchIds, region_short, region_long)\n",
        "grandmasters_matches(matchIds, region_short, region_long)"
      ]
    },
    {
      "cell_type": "code",
      "execution_count": null,
      "metadata": {
        "colab": {
          "base_uri": "https://localhost:8080/"
        },
        "id": "QGuEXfZ4yU0z",
        "outputId": "54fffb97-20e2-4d34-97d0-c3505e2b404f"
      },
      "outputs": [
        {
          "data": {
            "text/plain": [
              "23010"
            ]
          },
          "execution_count": 41,
          "metadata": {},
          "output_type": "execute_result"
        }
      ],
      "source": [
        "len(matchIds)"
      ]
    },
    {
      "cell_type": "code",
      "execution_count": null,
      "metadata": {
        "colab": {
          "base_uri": "https://localhost:8080/"
        },
        "id": "Yv9BPECxyUvy",
        "outputId": "5fba6900-4360-468c-ed4a-dfd657f5bd05"
      },
      "outputs": [
        {
          "name": "stderr",
          "output_type": "stream",
          "text": [
            " 67%|██████▋   | 134/200 [03:25<01:33,  1.42s/it]"
          ]
        },
        {
          "name": "stdout",
          "output_type": "stream",
          "text": [
            "Error converting summonerId to puuid: 500 on I0l7yAvFsTWTWKd0tI6ZvSzlxqgFABQRczJ7fDU_Z8oOj98\n"
          ]
        },
        {
          "name": "stderr",
          "output_type": "stream",
          "text": [
            " 70%|███████   | 141/200 [03:35<01:23,  1.42s/it]"
          ]
        },
        {
          "name": "stdout",
          "output_type": "stream",
          "text": [
            "Error converting summonerId to puuid: 500 on tAPBxW6GCVGxxAXGdzwkF4YFWbTJlJMD07gVPhUn7abAME2p9VeLEFc0kQ\n"
          ]
        },
        {
          "name": "stderr",
          "output_type": "stream",
          "text": [
            "100%|██████████| 200/200 [05:01<00:00,  1.51s/it]\n",
            " 76%|███████▌  | 303/400 [07:15<02:16,  1.41s/it]"
          ]
        },
        {
          "name": "stdout",
          "output_type": "stream",
          "text": [
            "Error converting summonerId to puuid: 500 on A56Y17iGdInIayXb-GkZ1Yfn1WJimGjK4UwCqoNF6vXkPWg\n"
          ]
        },
        {
          "name": "stderr",
          "output_type": "stream",
          "text": [
            " 80%|████████  | 322/400 [07:42<01:45,  1.35s/it]"
          ]
        },
        {
          "name": "stdout",
          "output_type": "stream",
          "text": [
            "Error converting summonerId to puuid: 500 on aVCKJLSkpgnfUrsODwvynp2ASdphZVDXfUALFnGL1B_h2KobSi69qfti_w\n"
          ]
        },
        {
          "name": "stderr",
          "output_type": "stream",
          "text": [
            "100%|██████████| 400/400 [09:34<00:00,  1.44s/it]\n"
          ]
        },
        {
          "data": {
            "text/plain": [
              "39357"
            ]
          },
          "execution_count": 42,
          "metadata": {},
          "output_type": "execute_result"
        }
      ],
      "source": [
        "region_short='EUW1'\n",
        "region_long = 'EUROPE'\n",
        "challenger_matches(matchIds, region_short, region_long)\n",
        "grandmasters_matches(matchIds, region_short, region_long)\n",
        "len(matchIds)"
      ]
    },
    {
      "cell_type": "code",
      "execution_count": null,
      "metadata": {
        "colab": {
          "base_uri": "https://localhost:8080/"
        },
        "id": "vevNZZ1_yUrk",
        "outputId": "acd9ea74-f8e6-4566-ef88-649d781f236a"
      },
      "outputs": [
        {
          "name": "stderr",
          "output_type": "stream",
          "text": [
            "  0%|          | 1/300 [00:01<08:24,  1.69s/it]"
          ]
        },
        {
          "name": "stdout",
          "output_type": "stream",
          "text": [
            "Error converting summonerId to puuid: 403 on YG3XJEC2UjcZJmU4NfsG7ybf7CEU_ERQgXVuSnoJLn2FeFW-GHAdqiO31A\n"
          ]
        },
        {
          "name": "stderr",
          "output_type": "stream",
          "text": [
            "\r  1%|          | 2/300 [00:04<10:51,  2.19s/it]"
          ]
        },
        {
          "name": "stdout",
          "output_type": "stream",
          "text": [
            "Error getting match ids: 400 on DKei458K3d_tZ7amA_5G5A4iSTzb6JW1o2gL0DWl4himWCN2-3UfsAvyodpjg-fA83qnwqVI4aPybw\n"
          ]
        },
        {
          "name": "stderr",
          "output_type": "stream",
          "text": [
            "\r  1%|          | 3/300 [00:06<10:25,  2.11s/it]"
          ]
        },
        {
          "name": "stdout",
          "output_type": "stream",
          "text": [
            "Error getting match ids: 400 on jisQYEWvSGXBOtgzQHHcIWx5jpk6OZcCLVU_udnTvaAq5lF8vS00lc2EFOKPTKByFw3-9Zu5BxJtvw\n"
          ]
        },
        {
          "name": "stderr",
          "output_type": "stream",
          "text": [
            "\r  1%|▏         | 4/300 [00:07<09:23,  1.90s/it]"
          ]
        },
        {
          "name": "stdout",
          "output_type": "stream",
          "text": [
            "Error getting match ids: 400 on Nc64h1M2N_-w8bmsGL5zROlyziia1u7D-NbgIEP_XQHDdyeHMkBOelublsnDBFhrkNurOy_gRG0T8A\n"
          ]
        },
        {
          "name": "stderr",
          "output_type": "stream",
          "text": [
            "\r  2%|▏         | 5/300 [00:09<09:34,  1.95s/it]"
          ]
        },
        {
          "name": "stdout",
          "output_type": "stream",
          "text": [
            "Error getting match ids: 400 on ha30kpooLFuGDxoBpcPHZtW36qqSTBeqOlkrNSH4aevvxgiC0aQCc4SBJlmT9rclB5R0MZ2OvA1KoA\n"
          ]
        },
        {
          "name": "stderr",
          "output_type": "stream",
          "text": [
            "\r  2%|▏         | 6/300 [00:11<09:51,  2.01s/it]"
          ]
        },
        {
          "name": "stdout",
          "output_type": "stream",
          "text": [
            "Error getting match ids: 400 on AUiMxakstEvcHyDnZtHZ8nwe_QeHPnIZowljstutAFWqcqZ9wsTQg4mj3MHMlPnPqsyLHCS9omaniw\n"
          ]
        },
        {
          "name": "stderr",
          "output_type": "stream",
          "text": [
            "\r  2%|▏         | 7/300 [00:13<09:02,  1.85s/it]"
          ]
        },
        {
          "name": "stdout",
          "output_type": "stream",
          "text": [
            "Error getting match ids: 400 on tRGlll5o3GSL52azWdX9rXwsQvgN38f4AhbWwaM4dkHte7Enzx0_3JsJyUkq-K7MUN65PubUjcqjgg\n"
          ]
        },
        {
          "name": "stderr",
          "output_type": "stream",
          "text": [
            "  3%|▎         | 10/300 [00:20<10:10,  2.11s/it]"
          ]
        },
        {
          "name": "stdout",
          "output_type": "stream",
          "text": [
            "Error getting match ids: 400 on HoBzNwotk1V8_lrlFWCI28dWxLO-LJwZTWLhiPIrcUqvLTVPT1bbWU80GxPZIa44IEbXN6jPcB7I9w\n"
          ]
        },
        {
          "name": "stderr",
          "output_type": "stream",
          "text": [
            "100%|██████████| 300/300 [09:06<00:00,  1.82s/it]\n",
            "100%|██████████| 600/600 [16:16<00:00,  1.63s/it]\n"
          ]
        },
        {
          "data": {
            "text/plain": [
              "67700"
            ]
          },
          "execution_count": 44,
          "metadata": {},
          "output_type": "execute_result"
        }
      ],
      "source": [
        "region_short='KR'\n",
        "region_long = 'ASIA'\n",
        "challenger_matches(matchIds, region_short, region_long)\n",
        "grandmasters_matches(matchIds, region_short, region_long)\n",
        "len(matchIds)"
      ]
    },
    {
      "cell_type": "code",
      "execution_count": null,
      "metadata": {
        "id": "qtFkf1dYyUmF"
      },
      "outputs": [],
      "source": [
        "#no access to china data, unfortunate because they are arguably the best region"
      ]
    },
    {
      "cell_type": "code",
      "execution_count": null,
      "metadata": {
        "id": "9UW5PcbhjfkN"
      },
      "outputs": [],
      "source": [
        "with open('MATCHIDS_PATCH13.4.json', \"w\") as file:\n",
        "    json.dump(list(matchIds), file)"
      ]
    }
  ],
  "metadata": {
    "colab": {
      "provenance": []
    },
    "kernelspec": {
      "display_name": "Python 3",
      "name": "python3"
    },
    "language_info": {
      "name": "python"
    }
  },
  "nbformat": 4,
  "nbformat_minor": 0
}
